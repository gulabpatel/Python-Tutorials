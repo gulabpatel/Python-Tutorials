{
  "nbformat": 4,
  "nbformat_minor": 0,
  "metadata": {
    "colab": {
      "name": "Part handling.ipynb",
      "provenance": [],
      "collapsed_sections": [
        "Ar7DlqtvnFRf",
        "TUTU7y_rokv6",
        "4EoKR4gkrs1n",
        "AcQdEd5gs_aN",
        "YdOT_5CPvH-e",
        "4DOCTH1Dwz2P"
      ],
      "toc_visible": true,
      "include_colab_link": true
    },
    "kernelspec": {
      "name": "python3",
      "display_name": "Python 3"
    }
  },
  "cells": [
    {
      "cell_type": "markdown",
      "metadata": {
        "id": "view-in-github",
        "colab_type": "text"
      },
      "source": [
        "<a href=\"https://colab.research.google.com/github/gulabpatel/Python_Tutorials/blob/master/Part_handling.ipynb\" target=\"_parent\"><img src=\"https://colab.research.google.com/assets/colab-badge.svg\" alt=\"Open In Colab\"/></a>"
      ]
    },
    {
      "cell_type": "markdown",
      "metadata": {
        "id": "HYgizb7Qjhlb"
      },
      "source": [
        "# File I/O\n",
        "File is a named location on disk to store related information.\n",
        "\n",
        "When we want to read from or write to a file we need to open it first. When we are done, it needs to be closed, so that resources that are tied with the file are freed.\n",
        "\n",
        "File operation:\n",
        "\n",
        "1. Open a file\n",
        "\n",
        "2. Read or write (perform operation)\n",
        "\n",
        "3. Close the file"
      ]
    },
    {
      "cell_type": "markdown",
      "metadata": {
        "id": "l8Zcs1lgj9l0"
      },
      "source": [
        "# 1. File Opening"
      ]
    },
    {
      "cell_type": "markdown",
      "metadata": {
        "id": "oOIe-4TBkEqx"
      },
      "source": [
        "Python has a built-in function open() to open a file. This function returns a file object, also called a handle, as it is used to read or modify the file accordingly."
      ]
    },
    {
      "cell_type": "code",
      "metadata": {
        "id": "uBlL0_ZIj3ws",
        "outputId": "595d983c-378b-470c-81a7-ec58f30ca95c",
        "colab": {
          "base_uri": "https://localhost:8080/",
          "height": 35
        }
      },
      "source": [
        "f = open('example.txt', 'w') # open file in current directory\n",
        "f.write(\" Thank you for your kind help!\\t\")\n",
        "f.close()\n",
        "\n",
        "f=open('example.txt', 'r')\n",
        "f.readline()\n",
        "f.close()\n",
        "f=open(\"example.txt\", 'a')\n",
        "f.write(\" We all are stuck in lochdown\")\n",
        "f=open('example.txt', 'r')\n",
        "f.readline()"
      ],
      "execution_count": 1,
      "outputs": [
        {
          "output_type": "execute_result",
          "data": {
            "application/vnd.google.colaboratory.intrinsic+json": {
              "type": "string"
            },
            "text/plain": [
              "' Thank you for your kind help!\\t We all are stuck in lochdown'"
            ]
          },
          "metadata": {
            "tags": []
          },
          "execution_count": 1
        }
      ]
    },
    {
      "cell_type": "code",
      "metadata": {
        "id": "CFEJcaNGqlNV",
        "outputId": "fe086891-a8aa-4e8f-e820-93c7348e7633",
        "colab": {
          "base_uri": "https://localhost:8080/",
          "height": 34
        }
      },
      "source": [
        "!pwd"
      ],
      "execution_count": 2,
      "outputs": [
        {
          "output_type": "stream",
          "text": [
            "/content\n"
          ],
          "name": "stdout"
        }
      ]
    },
    {
      "cell_type": "markdown",
      "metadata": {
        "id": "Ar7DlqtvnFRf"
      },
      "source": [
        "# 2. File Modes"
      ]
    },
    {
      "cell_type": "markdown",
      "metadata": {
        "id": "IEJ2LwwanJb4"
      },
      "source": [
        "'r' Open a file for reading. (default)\n",
        "\n",
        "'w' Open a file for writing. Creates a new file if it does not exist or truncates the file if it exists.\n",
        "\n",
        "'x' Open a file for exclusive creation. If the file already exists, the operation fails.\n",
        "\n",
        "'a' Open for appending at the end of the file without truncating it. Creates a new file if it does not exist.\n",
        "\n",
        "'t' Open in text mode. (default)\n",
        "\n",
        "'b' Open in binary mode.\n",
        "\n",
        "'+' Open a file for updating (reading and writing)"
      ]
    },
    {
      "cell_type": "code",
      "metadata": {
        "id": "ViBQdLNSkLS2"
      },
      "source": [
        "#f = open('example.txt') # equivalent to 'r' \n",
        "f = open('example.txt', 'r')\n",
        "\n",
        "# write mode\n",
        "f = open('example.txt', 'w')"
      ],
      "execution_count": 3,
      "outputs": []
    },
    {
      "cell_type": "markdown",
      "metadata": {
        "id": "TUTU7y_rokv6"
      },
      "source": [
        "# 3. Closing a File\n"
      ]
    },
    {
      "cell_type": "markdown",
      "metadata": {
        "id": "xNbE60sMo6sO"
      },
      "source": [
        "Closing a file will free up the resources that were tied with the file and is done using the close() method.\n"
      ]
    },
    {
      "cell_type": "code",
      "metadata": {
        "id": "ICnl7Xxdo2Kj"
      },
      "source": [
        "f.close()"
      ],
      "execution_count": 4,
      "outputs": []
    },
    {
      "cell_type": "markdown",
      "metadata": {
        "id": "0LEpkhVVrIHA"
      },
      "source": [
        "This method is not entirely safe. If an exception occurs when we are performing some operation with the file, the code exits without closing the file.\n",
        "\n",
        "A safer way is to use a try...finally block."
      ]
    },
    {
      "cell_type": "code",
      "metadata": {
        "id": "xNs9z3SNpEJ7",
        "outputId": "c2fa8a58-746b-4efd-bae9-c00244935891",
        "colab": {
          "base_uri": "https://localhost:8080/",
          "height": 35
        }
      },
      "source": [
        "try:\n",
        "  f = open('example.txt')\n",
        "  # perform operations\n",
        "finally:\n",
        "  f.close()\n",
        "  \n",
        "'''\n",
        "This way, we are guaranteed that the file is properly closed even \n",
        "if an exception is raised, causing program flow to stop.\n",
        "'''"
      ],
      "execution_count": 5,
      "outputs": [
        {
          "output_type": "execute_result",
          "data": {
            "application/vnd.google.colaboratory.intrinsic+json": {
              "type": "string"
            },
            "text/plain": [
              "'\\nThis way, we are guaranteed that the file is properly closed even \\nif an exception is raised, causing program flow to stop.\\n'"
            ]
          },
          "metadata": {
            "tags": []
          },
          "execution_count": 5
        }
      ]
    },
    {
      "cell_type": "markdown",
      "metadata": {
        "id": "4EoKR4gkrs1n"
      },
      "source": [
        "# 4. Writing to a File"
      ]
    },
    {
      "cell_type": "markdown",
      "metadata": {
        "id": "ggxunJXmsS4X"
      },
      "source": [
        "In order to write into a file we need to open it in **write 'w', append 'a' or exclusive creation 'x' mode**.\n",
        "\n",
        "We need to be careful with the 'w' mode as it will overwrite into the file if it already exists. All previous data are erased.\n",
        "\n",
        "Writing a string or sequence of bytes (for binary files) is done using **write()** method. This method returns the number of characters written to the file."
      ]
    },
    {
      "cell_type": "code",
      "metadata": {
        "id": "PxzdePZZrMoc",
        "outputId": "8c30189e-46b5-4349-f08d-65910e609892",
        "colab": {
          "base_uri": "https://localhost:8080/",
          "height": 35
        }
      },
      "source": [
        "f = open(\"text.txt\", 'w')\n",
        "f.write(\"God loves each of us\\n\")\n",
        "f.write(\"as if there were only one of us.\")\n",
        "f.close()\n",
        "'''\n",
        "This program will create a new file named 'test.txt' if it does not exist. If it does exist, it is overwritten.\n",
        "'''"
      ],
      "execution_count": 6,
      "outputs": [
        {
          "output_type": "execute_result",
          "data": {
            "application/vnd.google.colaboratory.intrinsic+json": {
              "type": "string"
            },
            "text/plain": [
              "\"\\nThis program will create a new file named 'test.txt' if it does not exist. If it does exist, it is overwritten.\\n\""
            ]
          },
          "metadata": {
            "tags": []
          },
          "execution_count": 6
        }
      ]
    },
    {
      "cell_type": "markdown",
      "metadata": {
        "id": "AcQdEd5gs_aN"
      },
      "source": [
        "# 5. Reading a File"
      ]
    },
    {
      "cell_type": "markdown",
      "metadata": {
        "id": "Kce3mx-atC2p"
      },
      "source": [
        "We can use the read(size) method to read in size number of data. <br>\n",
        "If size parameter is not specified, it reads and returns up to the end of the file."
      ]
    },
    {
      "cell_type": "code",
      "metadata": {
        "id": "AD0h3nUTsdMi",
        "outputId": "176267f6-3ebd-47f2-f5bc-81cd49e54a8c",
        "colab": {
          "base_uri": "https://localhost:8080/",
          "height": 35
        }
      },
      "source": [
        "# open a file and read\n",
        "f = open(\"text.txt\", 'r')\n",
        "f.read()"
      ],
      "execution_count": 7,
      "outputs": [
        {
          "output_type": "execute_result",
          "data": {
            "application/vnd.google.colaboratory.intrinsic+json": {
              "type": "string"
            },
            "text/plain": [
              "'God loves each of us\\nas if there were only one of us.'"
            ]
          },
          "metadata": {
            "tags": []
          },
          "execution_count": 7
        }
      ]
    },
    {
      "cell_type": "code",
      "metadata": {
        "id": "uRxOjlmhtgS8",
        "outputId": "2bc2900c-d341-4918-ca90-4b4f13bae9e3",
        "colab": {
          "base_uri": "https://localhost:8080/",
          "height": 35
        }
      },
      "source": [
        "# open and read with size = 4\n",
        "f = open(\"text.txt\", 'r')\n",
        "f.read(4)"
      ],
      "execution_count": 8,
      "outputs": [
        {
          "output_type": "execute_result",
          "data": {
            "application/vnd.google.colaboratory.intrinsic+json": {
              "type": "string"
            },
            "text/plain": [
              "'God '"
            ]
          },
          "metadata": {
            "tags": []
          },
          "execution_count": 8
        }
      ]
    },
    {
      "cell_type": "code",
      "metadata": {
        "id": "3Lq2HcDOtoD-",
        "outputId": "7a66659b-a67e-42d6-ba44-e6ce67d76b28",
        "colab": {
          "base_uri": "https://localhost:8080/",
          "height": 35
        }
      },
      "source": [
        "# f = open(\"test.txt\",\"r\")\n",
        "# read from current cursor position with read size = 5\n",
        "f.read(6)"
      ],
      "execution_count": 9,
      "outputs": [
        {
          "output_type": "execute_result",
          "data": {
            "application/vnd.google.colaboratory.intrinsic+json": {
              "type": "string"
            },
            "text/plain": [
              "'loves '"
            ]
          },
          "metadata": {
            "tags": []
          },
          "execution_count": 9
        }
      ]
    },
    {
      "cell_type": "markdown",
      "metadata": {
        "id": "Lce_BPspuDlq"
      },
      "source": [
        "**tell()** returns the current pointer location.<br>\n",
        "**seek()** changes the current cursor position."
      ]
    },
    {
      "cell_type": "code",
      "metadata": {
        "id": "MI8qbcVyuQbW",
        "outputId": "c252f387-ef88-42ff-94c4-46e10694450d",
        "colab": {
          "base_uri": "https://localhost:8080/",
          "height": 34
        }
      },
      "source": [
        "# current cursor position\n",
        "f.tell()"
      ],
      "execution_count": 10,
      "outputs": [
        {
          "output_type": "execute_result",
          "data": {
            "text/plain": [
              "10"
            ]
          },
          "metadata": {
            "tags": []
          },
          "execution_count": 10
        }
      ]
    },
    {
      "cell_type": "code",
      "metadata": {
        "id": "LrPNTqTeuZuZ",
        "outputId": "46f90fbc-4517-4dd7-840a-d5cdb11d705a",
        "colab": {
          "base_uri": "https://localhost:8080/",
          "height": 34
        }
      },
      "source": [
        "#bring the file cursor to initial position\n",
        "f.seek(0)"
      ],
      "execution_count": 11,
      "outputs": [
        {
          "output_type": "execute_result",
          "data": {
            "text/plain": [
              "0"
            ]
          },
          "metadata": {
            "tags": []
          },
          "execution_count": 11
        }
      ]
    },
    {
      "cell_type": "code",
      "metadata": {
        "id": "gJGUI-hojGhG",
        "outputId": "a3435290-cb51-424b-d107-7ef36a3d380f",
        "colab": {
          "base_uri": "https://localhost:8080/",
          "height": 35
        }
      },
      "source": [
        "f.read(5)"
      ],
      "execution_count": 12,
      "outputs": [
        {
          "output_type": "execute_result",
          "data": {
            "application/vnd.google.colaboratory.intrinsic+json": {
              "type": "string"
            },
            "text/plain": [
              "'God l'"
            ]
          },
          "metadata": {
            "tags": []
          },
          "execution_count": 12
        }
      ]
    },
    {
      "cell_type": "markdown",
      "metadata": {
        "id": "KAZTIQ0Ouk9r"
      },
      "source": [
        "Reading a file line-by-line. <br>\n",
        "1. Using loop\n",
        "2. Using readline() method: This method reads a file till the newline, including the newline character."
      ]
    },
    {
      "cell_type": "code",
      "metadata": {
        "id": "ByvU6BSpuojX",
        "outputId": "79e50189-9ef3-4478-f2be-6fdcffc66d2c",
        "colab": {
          "base_uri": "https://localhost:8080/",
          "height": 68
        }
      },
      "source": [
        "# Using loop\n",
        "f.seek(0)\n",
        "for line in f:\n",
        "  print(line)"
      ],
      "execution_count": 13,
      "outputs": [
        {
          "output_type": "stream",
          "text": [
            "God loves each of us\n",
            "\n",
            "as if there were only one of us.\n"
          ],
          "name": "stdout"
        }
      ]
    },
    {
      "cell_type": "code",
      "metadata": {
        "id": "WeifjDwdu1us",
        "outputId": "24cb5013-6e87-4d3f-d9fc-d1be12f7e9ef",
        "colab": {
          "base_uri": "https://localhost:8080/",
          "height": 35
        }
      },
      "source": [
        "# Using readline()\n",
        "f = open(\"text.txt\", 'r')\n",
        "f.readline()"
      ],
      "execution_count": 14,
      "outputs": [
        {
          "output_type": "execute_result",
          "data": {
            "application/vnd.google.colaboratory.intrinsic+json": {
              "type": "string"
            },
            "text/plain": [
              "'God loves each of us\\n'"
            ]
          },
          "metadata": {
            "tags": []
          },
          "execution_count": 14
        }
      ]
    },
    {
      "cell_type": "code",
      "metadata": {
        "id": "Sd_Tnoj2vIng",
        "outputId": "05e91ea6-d38a-4ae9-c9e2-c42faea58231",
        "colab": {
          "base_uri": "https://localhost:8080/",
          "height": 35
        }
      },
      "source": [
        "# The curson remains there\n",
        "f.readline()"
      ],
      "execution_count": 15,
      "outputs": [
        {
          "output_type": "execute_result",
          "data": {
            "application/vnd.google.colaboratory.intrinsic+json": {
              "type": "string"
            },
            "text/plain": [
              "'as if there were only one of us.'"
            ]
          },
          "metadata": {
            "tags": []
          },
          "execution_count": 15
        }
      ]
    },
    {
      "cell_type": "markdown",
      "metadata": {
        "id": "IXpNRvn7vfTc"
      },
      "source": [
        "The **readlines()** method returns a list of remaining lines of the entire file. All these reading method return empty values when end of file (EOF) is reached."
      ]
    },
    {
      "cell_type": "code",
      "metadata": {
        "id": "wjDcW-OGvaqy",
        "outputId": "c6290edd-bb6a-4286-eea8-74d8864b6ffc",
        "colab": {
          "base_uri": "https://localhost:8080/",
          "height": 34
        }
      },
      "source": [
        "# list of all the lines\n",
        "f.seek(0)\n",
        "f.readlines()"
      ],
      "execution_count": 16,
      "outputs": [
        {
          "output_type": "execute_result",
          "data": {
            "text/plain": [
              "['God loves each of us\\n', 'as if there were only one of us.']"
            ]
          },
          "metadata": {
            "tags": []
          },
          "execution_count": 16
        }
      ]
    },
    {
      "cell_type": "markdown",
      "metadata": {
        "id": "YdOT_5CPvH-e"
      },
      "source": [
        "# 6. Renaming and Deleting Files"
      ]
    },
    {
      "cell_type": "markdown",
      "metadata": {
        "id": "5o4g0S0mwFK5"
      },
      "source": [
        "There comes an **os** module in Python which brings the support of file **rename/delete** operations.\n",
        "\n",
        "So, to continue, first of all, you should import the **os** module in your Python script."
      ]
    },
    {
      "cell_type": "code",
      "metadata": {
        "id": "as38YP7Bv7YS"
      },
      "source": [
        "# importing os module\n",
        "import os\n",
        "\n",
        "# make a new file\n",
        "f = open('great.txt', 'w')\n",
        "f.write('Thankyou mother nature')\n",
        "f.close()\n",
        "\n",
        "# Rename a file\n",
        "os.rename('great.txt', 'nature.txt')"
      ],
      "execution_count": 17,
      "outputs": []
    },
    {
      "cell_type": "code",
      "metadata": {
        "id": "m63v8CMXwgRm",
        "outputId": "eeb38571-c55b-4bb0-fbb3-39bd4ef9843b",
        "colab": {
          "base_uri": "https://localhost:8080/",
          "height": 35
        }
      },
      "source": [
        "# open the file in the read mode and read it using readline()\n",
        "f = open('nature.txt', 'r')\n",
        "f.readline()"
      ],
      "execution_count": 18,
      "outputs": [
        {
          "output_type": "execute_result",
          "data": {
            "application/vnd.google.colaboratory.intrinsic+json": {
              "type": "string"
            },
            "text/plain": [
              "'Thankyou mother nature'"
            ]
          },
          "metadata": {
            "tags": []
          },
          "execution_count": 18
        }
      ]
    },
    {
      "cell_type": "code",
      "metadata": {
        "id": "D-No6ugHwmPv"
      },
      "source": [
        "# Delete a file \n",
        "os.remove('nature.txt')"
      ],
      "execution_count": 19,
      "outputs": []
    },
    {
      "cell_type": "code",
      "metadata": {
        "id": "Fn0FnaRHwnRp",
        "outputId": "710c0269-743a-46e8-e8ea-4af7634ca66c",
        "colab": {
          "base_uri": "https://localhost:8080/",
          "height": 197
        }
      },
      "source": [
        "# Check again by opening and reading \n",
        "f = open('nature.txt', 'r')\n",
        "f.readline()\n"
      ],
      "execution_count": 20,
      "outputs": [
        {
          "output_type": "error",
          "ename": "FileNotFoundError",
          "evalue": "ignored",
          "traceback": [
            "\u001b[0;31m---------------------------------------------------------------------------\u001b[0m",
            "\u001b[0;31mFileNotFoundError\u001b[0m                         Traceback (most recent call last)",
            "\u001b[0;32m<ipython-input-20-7df1d647622e>\u001b[0m in \u001b[0;36m<module>\u001b[0;34m()\u001b[0m\n\u001b[1;32m      1\u001b[0m \u001b[0;31m# Check again by opening and reading\u001b[0m\u001b[0;34m\u001b[0m\u001b[0;34m\u001b[0m\u001b[0;34m\u001b[0m\u001b[0m\n\u001b[0;32m----> 2\u001b[0;31m \u001b[0mf\u001b[0m \u001b[0;34m=\u001b[0m \u001b[0mopen\u001b[0m\u001b[0;34m(\u001b[0m\u001b[0;34m'nature.txt'\u001b[0m\u001b[0;34m,\u001b[0m \u001b[0;34m'r'\u001b[0m\u001b[0;34m)\u001b[0m\u001b[0;34m\u001b[0m\u001b[0;34m\u001b[0m\u001b[0m\n\u001b[0m\u001b[1;32m      3\u001b[0m \u001b[0mf\u001b[0m\u001b[0;34m.\u001b[0m\u001b[0mreadline\u001b[0m\u001b[0;34m(\u001b[0m\u001b[0;34m)\u001b[0m\u001b[0;34m\u001b[0m\u001b[0;34m\u001b[0m\u001b[0m\n",
            "\u001b[0;31mFileNotFoundError\u001b[0m: [Errno 2] No such file or directory: 'nature.txt'"
          ]
        }
      ]
    },
    {
      "cell_type": "markdown",
      "metadata": {
        "id": "4DOCTH1Dwz2P"
      },
      "source": [
        "# 7. File Management"
      ]
    },
    {
      "cell_type": "markdown",
      "metadata": {
        "id": "8a0NFunDw6ML"
      },
      "source": [
        "If there are a large number of files to handle in your Python program, you can arrange your code within different directories to make things more manageable.\n",
        "\n",
        "A directory or folder is a collection of files and sub directories. Python has the os module, which provides us with many useful methods to work with directories (and files as well)."
      ]
    },
    {
      "cell_type": "markdown",
      "metadata": {
        "id": "nK5za7I95Ozz"
      },
      "source": [
        "### GET CURRENT DIRECTORY\n",
        "We can get the present working directory using the **getcwd()** method.\n",
        "\n",
        "This method returns the current working directory in the form of a string. "
      ]
    },
    {
      "cell_type": "code",
      "metadata": {
        "id": "BLg-ySytw5Yu",
        "outputId": "ec33a165-d8c1-4a6d-b838-68239b07dde0",
        "colab": {
          "base_uri": "https://localhost:8080/",
          "height": 35
        }
      },
      "source": [
        "# import os and get current directory\n",
        "import os\n",
        "os.getcwd()"
      ],
      "execution_count": 21,
      "outputs": [
        {
          "output_type": "execute_result",
          "data": {
            "application/vnd.google.colaboratory.intrinsic+json": {
              "type": "string"
            },
            "text/plain": [
              "'/content'"
            ]
          },
          "metadata": {
            "tags": []
          },
          "execution_count": 21
        }
      ]
    },
    {
      "cell_type": "code",
      "metadata": {
        "id": "0MLEiNHI5WkW",
        "outputId": "a45a0f40-a34c-4e15-dabd-db0d718f0031",
        "colab": {
          "base_uri": "https://localhost:8080/",
          "height": 52
        }
      },
      "source": [
        "!pwd\n",
        "os.getcwd()"
      ],
      "execution_count": 22,
      "outputs": [
        {
          "output_type": "stream",
          "text": [
            "/content\n"
          ],
          "name": "stdout"
        },
        {
          "output_type": "execute_result",
          "data": {
            "application/vnd.google.colaboratory.intrinsic+json": {
              "type": "string"
            },
            "text/plain": [
              "'/content'"
            ]
          },
          "metadata": {
            "tags": []
          },
          "execution_count": 22
        }
      ]
    },
    {
      "cell_type": "markdown",
      "metadata": {
        "id": "3ZgsOJ0_5hKs"
      },
      "source": [
        "### CHANGE DIRECTORY\n",
        "We can change the current working directory using the **chdir()** method.\n",
        "\n",
        "The new path that we want to change to must be supplied as a string to this method. We can use both forward slash (/) or the backward slash (\\\\) to separate path elements."
      ]
    },
    {
      "cell_type": "code",
      "metadata": {
        "id": "pyiSaDaN5fe4"
      },
      "source": [
        "# change directory\n",
        "os.chdir('/content')"
      ],
      "execution_count": 23,
      "outputs": []
    },
    {
      "cell_type": "code",
      "metadata": {
        "id": "8ByPbJRk5zZ-",
        "outputId": "33071dba-6bf1-4369-e2a2-e88a94c7fb7a",
        "colab": {
          "base_uri": "https://localhost:8080/",
          "height": 35
        }
      },
      "source": [
        "# get current working directory\n",
        "os.getcwd()"
      ],
      "execution_count": 24,
      "outputs": [
        {
          "output_type": "execute_result",
          "data": {
            "application/vnd.google.colaboratory.intrinsic+json": {
              "type": "string"
            },
            "text/plain": [
              "'/content'"
            ]
          },
          "metadata": {
            "tags": []
          },
          "execution_count": 24
        }
      ]
    },
    {
      "cell_type": "markdown",
      "metadata": {
        "id": "_7MKZ_LB6LQS"
      },
      "source": [
        "### LIST DIRECTORIES AND FILES\n",
        "All files and sub directories inside a directory can be known using the **listdir()** method."
      ]
    },
    {
      "cell_type": "code",
      "metadata": {
        "id": "FAaQTmTg6N_a",
        "outputId": "a098831c-ad60-4371-f3c5-4a1cc35e9843",
        "colab": {
          "base_uri": "https://localhost:8080/",
          "height": 34
        }
      },
      "source": [
        "# get list of directory\n",
        "os.listdir(os.getcwd())"
      ],
      "execution_count": 25,
      "outputs": [
        {
          "output_type": "execute_result",
          "data": {
            "text/plain": [
              "['.config', 'text.txt', 'example.txt', 'sample_data']"
            ]
          },
          "metadata": {
            "tags": []
          },
          "execution_count": 25
        }
      ]
    },
    {
      "cell_type": "markdown",
      "metadata": {
        "id": "sCUCABwg6dfg"
      },
      "source": [
        "### MAKE NEW DIRECTORY\n",
        "Using **mkdir()** method"
      ]
    },
    {
      "cell_type": "code",
      "metadata": {
        "id": "MGPYW75A6W2y"
      },
      "source": [
        "# make a directory\n",
        "os.mkdir('test')"
      ],
      "execution_count": 26,
      "outputs": []
    },
    {
      "cell_type": "markdown",
      "metadata": {
        "id": "1lP4b-Kh7Clc"
      },
      "source": [
        "### REMOVING DIRECTORY\n",
        "\n",
        "- Empty directory: **os.rmdir()**\n",
        "- Non-empty directory: import the **shutil** module and use **rmtree()** inside the shutil module"
      ]
    },
    {
      "cell_type": "code",
      "metadata": {
        "id": "X2V1SJ5l68bU"
      },
      "source": [
        "# remove an empty directory\n",
        "os.rmdir('test')"
      ],
      "execution_count": 27,
      "outputs": []
    },
    {
      "cell_type": "code",
      "metadata": {
        "id": "9gqMl3Qs6-Rr"
      },
      "source": [
        "# make a non empty directory and remove it\n",
        "os.mkdir('raga')\n",
        "os.chdir('./raga') # ./ means current directory\n",
        "f = open('text.txt', 'w')\n",
        "f.write('Indian classical music')\n",
        "os.chdir('../') # ../ means parent directory"
      ],
      "execution_count": 28,
      "outputs": []
    },
    {
      "cell_type": "code",
      "metadata": {
        "id": "W21Zabok8pia",
        "outputId": "afb0322f-e75a-4c91-ceb5-3e0bd1485cc9",
        "colab": {
          "base_uri": "https://localhost:8080/",
          "height": 180
        }
      },
      "source": [
        "# try to remove now   \n",
        "os.rmdir('raga')   ##directory won't be deleted because it's not empty"
      ],
      "execution_count": 29,
      "outputs": [
        {
          "output_type": "error",
          "ename": "OSError",
          "evalue": "ignored",
          "traceback": [
            "\u001b[0;31m---------------------------------------------------------------------------\u001b[0m",
            "\u001b[0;31mOSError\u001b[0m                                   Traceback (most recent call last)",
            "\u001b[0;32m<ipython-input-29-e9d3e46d8e81>\u001b[0m in \u001b[0;36m<module>\u001b[0;34m()\u001b[0m\n\u001b[1;32m      1\u001b[0m \u001b[0;31m# try to remove now\u001b[0m\u001b[0;34m\u001b[0m\u001b[0;34m\u001b[0m\u001b[0;34m\u001b[0m\u001b[0m\n\u001b[0;32m----> 2\u001b[0;31m \u001b[0mos\u001b[0m\u001b[0;34m.\u001b[0m\u001b[0mrmdir\u001b[0m\u001b[0;34m(\u001b[0m\u001b[0;34m'raga'\u001b[0m\u001b[0;34m)\u001b[0m\u001b[0;34m\u001b[0m\u001b[0;34m\u001b[0m\u001b[0m\n\u001b[0m",
            "\u001b[0;31mOSError\u001b[0m: [Errno 39] Directory not empty: 'raga'"
          ]
        }
      ]
    },
    {
      "cell_type": "code",
      "metadata": {
        "id": "A0SULb488v_x"
      },
      "source": [
        "# remove it with shutil\n",
        "import shutil\n",
        "\n",
        "shutil.rmtree('raga')"
      ],
      "execution_count": 30,
      "outputs": []
    },
    {
      "cell_type": "code",
      "metadata": {
        "id": "OgsTShUB-qwT",
        "outputId": "fcf08b4e-a62d-40cb-8fa1-b00a8b8334e1",
        "colab": {
          "base_uri": "https://localhost:8080/",
          "height": 34
        }
      },
      "source": [
        "os.listdir(os.getcwd())"
      ],
      "execution_count": 31,
      "outputs": [
        {
          "output_type": "execute_result",
          "data": {
            "text/plain": [
              "['.config', 'text.txt', 'example.txt', 'sample_data']"
            ]
          },
          "metadata": {
            "tags": []
          },
          "execution_count": 31
        }
      ]
    }
  ]
}
