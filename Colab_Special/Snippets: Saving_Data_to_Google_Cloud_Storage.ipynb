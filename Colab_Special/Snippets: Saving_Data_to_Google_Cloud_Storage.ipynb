{
  "nbformat": 4,
  "nbformat_minor": 0,
  "metadata": {
    "colab": {
      "name": "Snippets: Saving Data to Google Cloud Storage",
      "provenance": [],
      "collapsed_sections": [],
      "toc_visible": true,
      "include_colab_link": true
    },
    "kernelspec": {
      "display_name": "Python 3",
      "name": "python3"
    }
  },
  "cells": [
    {
      "cell_type": "markdown",
      "metadata": {
        "id": "view-in-github",
        "colab_type": "text"
      },
      "source": [
        "<a href=\"https://colab.research.google.com/github/gulabpatel/Python_Tutorials/blob/master/Colab_Special/Snippets%3A%20Saving_Data_to_Google_Cloud_Storage.ipynb\" target=\"_parent\"><img src=\"https://colab.research.google.com/assets/colab-badge.svg\" alt=\"Open In Colab\"/></a>"
      ]
    },
    {
      "cell_type": "markdown",
      "metadata": {
        "id": "NAM6vyXAfVUj"
      },
      "source": [
        "# Saving data with gsutil\n",
        "\n",
        "- Use the [Cloud Resource Manager](https://cloud.google.com/resource-manager) to create a project if you do not already have one.\n",
        "- [Enable billing](https://support.google.com/cloud/answer/6293499#enable-billing) for the project.\n",
        "- See [Google Cloud Storage (GCS) Documentation](https://cloud.google.com/storage/) for more info.\n"
      ]
    },
    {
      "cell_type": "code",
      "metadata": {
        "id": "LADpx7LReOMk"
      },
      "source": [
        "from google.colab import auth\n",
        "auth.authenticate_user()\n",
        "\n",
        "# https://cloud.google.com/resource-manager/docs/creating-managing-projects\n",
        "project_id = '[your Cloud Platform project ID]'\n",
        "!gcloud config set project {project_id}"
      ],
      "execution_count": null,
      "outputs": []
    },
    {
      "cell_type": "code",
      "metadata": {
        "id": "f8LMNz9SR0Iz"
      },
      "source": [
        "# Create a local file with data to upload.\n",
        "with open('/tmp/to_upload.txt', 'w') as f:\n",
        "  f.write('my sample file')\n",
        "\n",
        "import uuid\n",
        "\n",
        "# Make a unique bucket to which we'll upload the file.\n",
        "# (GCS buckets are part of a single global namespace.)\n",
        "bucket_name = 'colab-sample-bucket-' + str(uuid.uuid1())\n",
        "\n",
        "# Full reference: https://cloud.google.com/storage/docs/gsutil/commands/mb\n",
        "!gsutil mb gs://{bucket_name}\n",
        "\n",
        "# Copy the file to our new bucket.\n",
        "# Full reference: https://cloud.google.com/storage/docs/gsutil/commands/cp\n",
        "!gsutil cp /tmp/to_upload.txt gs://{bucket_name}/\n",
        "  \n",
        "# Finally, dump the contents of our newly copied file to make sure everything worked.\n",
        "!gsutil cat gs://{bucket_name}/to_upload.txt"
      ],
      "execution_count": null,
      "outputs": []
    },
    {
      "cell_type": "markdown",
      "metadata": {
        "id": "0ENMqxq25szn"
      },
      "source": [
        "# Saving data with the Cloud Storage Python API\n",
        "\n",
        "- Use the [Cloud Resource Manager](https://cloud.google.com/resource-manager) to create a project if you do not already have one.\n",
        "- [Enable billing](https://support.google.com/cloud/answer/6293499#enable-billing) for the project.\n",
        "- See [Google Cloud Storage (GCS) Documentation](https://cloud.google.com/storage/) for more info.\n",
        "\n",
        "You can also use [gsutil](https://cloud.google.com/storage/docs/gsutil) to interact with [Google Cloud Storage (GCS)](https://cloud.google.com/storage/).\n",
        "This snippet is based on [a larger example](https://github.com/GoogleCloudPlatform/storage-file-transfer-json-python/blob/master/chunked_transfer.py)."
      ]
    },
    {
      "cell_type": "code",
      "metadata": {
        "id": "YsXBVQqkArHD"
      },
      "source": [
        "from google.colab import auth\n",
        "auth.authenticate_user()\n",
        "\n",
        "# https://cloud.google.com/resource-manager/docs/creating-managing-projects\n",
        "project_id = '[your Cloud Platform project ID]'"
      ],
      "execution_count": null,
      "outputs": []
    },
    {
      "cell_type": "code",
      "metadata": {
        "id": "YFVbF4cdhd9Y"
      },
      "source": [
        "from googleapiclient.discovery import build\n",
        "gcs_service = build('storage', 'v1')\n",
        "\n",
        "# Generate a random bucket name to which we'll upload the file.\n",
        "import uuid\n",
        "bucket_name = 'colab-sample-bucket' + str(uuid.uuid1())\n",
        "\n",
        "body = {\n",
        "  'name': bucket_name,\n",
        "  # For a full list of locations, see:\n",
        "  # https://cloud.google.com/storage/docs/bucket-locations\n",
        "  'location': 'us',\n",
        "}\n",
        "gcs_service.buckets().insert(project=project_id, body=body).execute()\n",
        "print('Done')"
      ],
      "execution_count": null,
      "outputs": []
    },
    {
      "cell_type": "code",
      "metadata": {
        "id": "cFAq-F2af5TJ"
      },
      "source": [
        "from googleapiclient.http import MediaFileUpload\n",
        "\n",
        "media = MediaFileUpload('/tmp/to_upload.txt', \n",
        "                        mimetype='text/plain',\n",
        "                        resumable=True)\n",
        "\n",
        "request = gcs_service.objects().insert(bucket=bucket_name, \n",
        "                                       name='to_upload.txt',\n",
        "                                       media_body=media)\n",
        "\n",
        "response = None\n",
        "while response is None:\n",
        "  # _ is a placeholder for a progress object that we ignore.\n",
        "  # (Our file is small, so we skip reporting progress.)\n",
        "  _, response = request.next_chunk()\n",
        "\n",
        "print('Upload complete')\n",
        "print('https://console.cloud.google.com/storage/browser?project={}'.format(project_id))"
      ],
      "execution_count": null,
      "outputs": []
    }
  ]
}