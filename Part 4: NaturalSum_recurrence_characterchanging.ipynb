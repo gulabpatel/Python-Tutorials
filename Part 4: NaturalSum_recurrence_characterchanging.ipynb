{
  "nbformat": 4,
  "nbformat_minor": 0,
  "metadata": {
    "colab": {
      "name": "Part 4: Sum_recursive_change.ipynb",
      "provenance": [],
      "collapsed_sections": [],
      "include_colab_link": true
    },
    "kernelspec": {
      "name": "python3",
      "display_name": "Python 3"
    }
  },
  "cells": [
    {
      "cell_type": "markdown",
      "metadata": {
        "id": "view-in-github",
        "colab_type": "text"
      },
      "source": [
        "<a href=\"https://colab.research.google.com/github/gulabpatel/Python_Tutorials/blob/master/Part4%3A%20NaturalSum_recurrence_characterchanging.ipynb\" target=\"_parent\"><img src=\"https://colab.research.google.com/assets/colab-badge.svg\" alt=\"Open In Colab\"/></a>"
      ]
    },
    {
      "cell_type": "markdown",
      "metadata": {
        "id": "OEF5yWrV_h41"
      },
      "source": [
        "Use recursion to solve the problems."
      ]
    },
    {
      "cell_type": "markdown",
      "metadata": {
        "id": "Dk2q7qJt_lYY"
      },
      "source": [
        "# Q. Natural Sum\n",
        "Write a function that takes an arguemnt n and computes the sum $1 + 2 + 3 + \\ldots +n$ recursively."
      ]
    },
    {
      "cell_type": "code",
      "metadata": {
        "id": "Ky77jttY_c9A",
        "outputId": "4103bcb4-e1ed-40c0-e71c-4a592d5c418e",
        "colab": {
          "base_uri": "https://localhost:8080/",
          "height": 51
        }
      },
      "source": [
        "def natural_sum(n):\n",
        "  ### Write your code here\n",
        "  if(n == 1):\n",
        "    return 1\n",
        "  else:\n",
        "    return n + natural_sum(n-1)\n",
        "\n",
        "n = int(input(\"Enter the number: \"))\n",
        "natural_sum(n)"
      ],
      "execution_count": 1,
      "outputs": [
        {
          "output_type": "stream",
          "text": [
            "Enter the number: 10\n"
          ],
          "name": "stdout"
        },
        {
          "output_type": "execute_result",
          "data": {
            "text/plain": [
              "55"
            ]
          },
          "metadata": {
            "tags": []
          },
          "execution_count": 1
        }
      ]
    },
    {
      "cell_type": "code",
      "metadata": {
        "id": "OFPqTvHgAFGF",
        "outputId": "d769095f-1027-4ed9-ec63-a179ef9b1c3e",
        "colab": {
          "base_uri": "https://localhost:8080/",
          "height": 34
        }
      },
      "source": [
        "\"\"\"Test Cases\"\"\"\n",
        "assert natural_sum(1) == 1\n",
        "assert natural_sum(10) == 55\n",
        "print(f\"Test cases passed! {chr(0x1F44D)}\")"
      ],
      "execution_count": 2,
      "outputs": [
        {
          "output_type": "stream",
          "text": [
            "Test cases passed! 👍\n"
          ],
          "name": "stdout"
        }
      ]
    },
    {
      "cell_type": "markdown",
      "metadata": {
        "id": "AdmSPaq-_5HJ"
      },
      "source": [
        "#Q. Recursively Min\n",
        "Write a recursive function that finds and returns the minimum element in an array.\n"
      ]
    },
    {
      "cell_type": "code",
      "metadata": {
        "id": "VFHBLosvABK7",
        "outputId": "0decd9b7-e258-420c-bcc5-a5b5f061e55a",
        "colab": {
          "base_uri": "https://localhost:8080/",
          "height": 51
        }
      },
      "source": [
        "def findmin(arr):\n",
        "  ### Write your code here\n",
        "  if(len(arr) == 1 ):\n",
        "     return arr[0]\n",
        "  else:\n",
        "    if(arr[0] < arr[1]):\n",
        "      arr[1] = arr[0]\n",
        "      return findmin(arr[1:])\n",
        "    else:\n",
        "      return findmin(arr[1:])\n",
        "\n",
        "print(\"enter the array: \")\n",
        "\n",
        "arr = [2, 3, 2, 1, 7, 8, 9]\n",
        "findmin(arr)"
      ],
      "execution_count": 4,
      "outputs": [
        {
          "output_type": "stream",
          "text": [
            "enter the array: \n"
          ],
          "name": "stdout"
        },
        {
          "output_type": "execute_result",
          "data": {
            "text/plain": [
              "1"
            ]
          },
          "metadata": {
            "tags": []
          },
          "execution_count": 4
        }
      ]
    },
    {
      "cell_type": "code",
      "metadata": {
        "id": "8spUYp8oAc9b",
        "outputId": "ba99f96e-d3b6-4db5-ea90-8f082cc04441",
        "colab": {
          "base_uri": "https://localhost:8080/",
          "height": 34
        }
      },
      "source": [
        "\"\"\"Test Cases\"\"\"\n",
        "assert findmin([2, 3, 2, 4, 7, 8, 9]) == 2\n",
        "assert findmin([1]) == 1\n",
        "print(f\"Test cases passed! {chr(0x1F44D)}\")"
      ],
      "execution_count": 5,
      "outputs": [
        {
          "output_type": "stream",
          "text": [
            "Test cases passed! 👍\n"
          ],
          "name": "stdout"
        }
      ]
    },
    {
      "cell_type": "markdown",
      "metadata": {
        "id": "wf1-NubMEUkW"
      },
      "source": [
        "# Q.Recursive Palindrome\n",
        "Write a recursive function that takes a string and returns whether the string is a palindrome or not. (Function should return a bool ```True``` or ```False```)"
      ]
    },
    {
      "cell_type": "code",
      "metadata": {
        "id": "vSfaF9sRBPC-",
        "outputId": "34f49e7f-55ae-4fae-f0e7-cdad63e60e52",
        "colab": {
          "base_uri": "https://localhost:8080/",
          "height": 71
        }
      },
      "source": [
        "def isPalindrome(s):\n",
        "  ### Write your code here\n",
        "  s = s.split(' ')\n",
        "  s = ''.join(s) # for a sentence don't use these two lines\n",
        "  s = s.lower()\n",
        "  if len(s) < 1:\n",
        "    return True\n",
        "  else:\n",
        "    if s[0] == s[-1]:\n",
        "       return isPalindrome(s[1:-1])\n",
        "    else:\n",
        "      False\n",
        "\n",
        "a = str(input(\"Enter the string: \"))\n",
        "if(isPalindrome(a) == True):\n",
        "  print(\"String is a Palindrome \")\n",
        "else:\n",
        "  print(\"String is not a Palindrome \")"
      ],
      "execution_count": 20,
      "outputs": [
        {
          "output_type": "stream",
          "text": [
            "Enter the string: Was it A Rat I saw\n",
            "String is a Palindrome \n"
          ],
          "name": "stdout"
        }
      ]
    },
    {
      "cell_type": "code",
      "metadata": {
        "id": "xiiG88UfBPad",
        "outputId": "ffdd25c7-d2d5-4bf4-d838-5bf71ccfa865",
        "colab": {
          "base_uri": "https://localhost:8080/",
          "height": 34
        }
      },
      "source": [
        "\"\"\"Test Cases\"\"\"\n",
        "assert isPalindrome(\"Was it A Rat I saw\") == True\n",
        "print(f\"Test cases passed! {chr(0x1F44D)}\")"
      ],
      "execution_count": 23,
      "outputs": [
        {
          "output_type": "stream",
          "text": [
            "Test cases passed! 👍\n"
          ],
          "name": "stdout"
        }
      ]
    },
    {
      "cell_type": "markdown",
      "metadata": {
        "id": "JadE5TmTGNe9"
      },
      "source": [
        "#Q. Change Pi\n",
        "Write a function that takes a string and replaces all occurences of pi with 3.14. This should be done using recursion instead of loops (iteration). "
      ]
    },
    {
      "cell_type": "code",
      "metadata": {
        "id": "dXU0fjjBF2ve",
        "outputId": "3bcf9275-81e0-490b-d25b-9be972c4b4dd",
        "colab": {
          "base_uri": "https://localhost:8080/",
          "height": 52
        }
      },
      "source": [
        "def changePi(s):\n",
        "  ### Write your code here\n",
        "  s = s.split(' ')\n",
        "  s = ''.join(s)\n",
        "  s = s.lower()\n",
        "  if(len(s) == 1):\n",
        "     return s\n",
        "  elif(len(s) == 2):\n",
        "    if(s[0:2] == \"pi\"):\n",
        "      return \"3.14\"\n",
        "    else: \n",
        "      return s\n",
        "  else:\n",
        "    if(s[0:2] == \"pi\"):\n",
        "      #s[0] = 3.14\n",
        "      return \"3.14\" + changePi(s[2:])\n",
        "    else:\n",
        "      return s[0]+changePi(s[1:])\n",
        "    \n",
        "a = str(input(\"Enter the string: \"))\n",
        "changePi(a)"
      ],
      "execution_count": null,
      "outputs": [
        {
          "output_type": "stream",
          "text": [
            "Enter the string: pixyzpi\n"
          ],
          "name": "stdout"
        },
        {
          "output_type": "execute_result",
          "data": {
            "text/plain": [
              "'3.14xyz3.14'"
            ]
          },
          "metadata": {
            "tags": []
          },
          "execution_count": 12
        }
      ]
    },
    {
      "cell_type": "code",
      "metadata": {
        "id": "7DRvjjklGmpz"
      },
      "source": [
        "\"\"\"Test Cases\"\"\"\n",
        "assert changePi(\"pixyzpi\") == \"3.14xyz3.14\"\n",
        "assert changePi(\"pixypiabpi\") == \"3.14xy3.14ab3.14\""
      ],
      "execution_count": null,
      "outputs": []
    }
  ]
}
