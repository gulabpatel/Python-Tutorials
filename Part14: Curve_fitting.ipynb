{
  "nbformat": 4,
  "nbformat_minor": 0,
  "metadata": {
    "colab": {
      "name": "Part14: Curve_fitting.ipynb",
      "provenance": [],
      "authorship_tag": "ABX9TyOkG8aUgbFEMW7TAECcDBuC"
    },
    "kernelspec": {
      "name": "python3",
      "display_name": "Python 3"
    },
    "language_info": {
      "name": "python"
    }
  },
  "cells": [
    {
      "cell_type": "markdown",
      "metadata": {
        "id": "w7nCDhrr1fFh"
      },
      "source": [
        "# Approach - 1"
      ]
    },
    {
      "cell_type": "markdown",
      "metadata": {
        "id": "d4fTBjryz1-J"
      },
      "source": [
        "Help : https://www.youtube.com/watch?v=Dggl0fJJ81k"
      ]
    },
    {
      "cell_type": "code",
      "metadata": {
        "id": "8BWI-7qEjnXv"
      },
      "source": [
        "import numpy as np"
      ],
      "execution_count": 1,
      "outputs": []
    },
    {
      "cell_type": "code",
      "metadata": {
        "id": "LIcM52nIzl6k"
      },
      "source": [
        "x = [1,2,3,4,5,6,7,8,9,10,11,12,13,14,15,16,17,18,19]\n",
        "y = [1,2,3,4,5,6,7,8,9,10,9, 8, 7, 6, 5, 4, 3, 2, 1]"
      ],
      "execution_count": 2,
      "outputs": []
    },
    {
      "cell_type": "code",
      "metadata": {
        "colab": {
          "base_uri": "https://localhost:8080/"
        },
        "id": "RHKpsY-iz5VB",
        "outputId": "d9eb500a-2f86-411e-e52a-9344d013bdc8"
      },
      "source": [
        "curve = np.polyfit(x,y,2)\n",
        "curve"
      ],
      "execution_count": 3,
      "outputs": [
        {
          "output_type": "execute_result",
          "data": {
            "text/plain": [
              "array([-0.09951349,  1.99026979, -1.70278638])"
            ]
          },
          "metadata": {
            "tags": []
          },
          "execution_count": 3
        }
      ]
    },
    {
      "cell_type": "code",
      "metadata": {
        "colab": {
          "base_uri": "https://localhost:8080/"
        },
        "id": "_S9-XwNl0MBI",
        "outputId": "8223b661-8a93-4e09-8cb8-4c014cf9e9aa"
      },
      "source": [
        "poly = np.poly1d(curve)\n",
        "poly"
      ],
      "execution_count": 4,
      "outputs": [
        {
          "output_type": "execute_result",
          "data": {
            "text/plain": [
              "poly1d([-0.09951349,  1.99026979, -1.70278638])"
            ]
          },
          "metadata": {
            "tags": []
          },
          "execution_count": 4
        }
      ]
    },
    {
      "cell_type": "code",
      "metadata": {
        "colab": {
          "base_uri": "https://localhost:8080/"
        },
        "id": "tDExgaGf0WQO",
        "outputId": "885ffd28-2fa2-42e4-d755-531782c91b51"
      },
      "source": [
        "print(poly(19.5))"
      ],
      "execution_count": 5,
      "outputs": [
        {
          "output_type": "stream",
          "text": [
            "-0.7325298540468936\n"
          ],
          "name": "stdout"
        }
      ]
    },
    {
      "cell_type": "markdown",
      "metadata": {
        "id": "1f5eVIGt3ZOi"
      },
      "source": [
        "# 1*"
      ]
    },
    {
      "cell_type": "code",
      "metadata": {
        "id": "0UM00kUb3b7c",
        "outputId": "193fa984-2ef1-447f-faf0-54da599c6fbc",
        "colab": {
          "base_uri": "https://localhost:8080/",
          "height": 435
        }
      },
      "source": [
        "import numpy as np\n",
        "x = np.array([0,1,2,3,4,5])\n",
        "y = np.array([0,0.8,0.9,0.1,-0.8,-1])\n",
        "print(x)\n",
        "print(y)\n",
        "\n",
        "p1 = np.polyfit(x,y,1)\n",
        "p2 = np.polyfit(x,y,2)\n",
        "p3 = np.polyfit(x,y,3)\n",
        "print(p1)\n",
        "print(p2)\n",
        "print(p3)\n",
        "\n",
        "import matplotlib.pyplot as plt\n",
        "plt.plot(x,y,'o')\n",
        "xp = np.linspace(-2,6,100)\n",
        "plt.plot(xp,np.polyval(p1,xp),'r-')\n",
        "plt.plot(xp,np.polyval(p2,xp),'b--')\n",
        "plt.plot(xp,np.polyval(p3,xp),'m:')\n",
        "yfit = p1[0] * x + p1[1]\n",
        "yresid= y - yfit\n",
        "SSresid = np.sum(yresid**2)\n",
        "SStotal = len(y) * np.var(y)\n",
        "rsq = 1 - SSresid/SStotal\n",
        "print(yfit)\n",
        "print(y)\n",
        "print(rsq)\n",
        "\n",
        "from scipy.stats import linregress\n",
        "slope,intercept,r_value,p_value,std_err = linregress(x,y)\n",
        "print(r_value**2)\n",
        "print(p_value)\n",
        "plt.show()"
      ],
      "execution_count": 6,
      "outputs": [
        {
          "output_type": "stream",
          "text": [
            "[0 1 2 3 4 5]\n",
            "[ 0.   0.8  0.9  0.1 -0.8 -1. ]\n",
            "[-0.30285714  0.75714286]\n",
            "[-0.16071429  0.50071429  0.22142857]\n",
            "[ 0.08703704 -0.81349206  1.69312169 -0.03968254]\n",
            "[ 0.75714286  0.45428571  0.15142857 -0.15142857 -0.45428571 -0.75714286]\n",
            "[ 0.   0.8  0.9  0.1 -0.8 -1. ]\n",
            "0.5177880184331798\n",
            "0.5177880184331796\n",
            "0.10693129655435198\n"
          ],
          "name": "stdout"
        },
        {
          "output_type": "display_data",
          "data": {
            "image/png": "[encoded data removed]",
            "text/plain": [
              "<Figure size 432x288 with 1 Axes>"
            ]
          },
          "metadata": {
            "tags": [],
            "needs_background": "light"
          }
        }
      ]
    },
    {
      "cell_type": "markdown",
      "metadata": {
        "id": "lr2jdW3b1lrl"
      },
      "source": [
        "# Approach - 2 "
      ]
    },
    {
      "cell_type": "code",
      "metadata": {
        "id": "Eo5v70cv2Fmx"
      },
      "source": [
        "import matplotlib.pyplot as plt\n",
        "from scipy.optimize import curve_fit\n",
        "import numpy as np"
      ],
      "execution_count": 7,
      "outputs": []
    },
    {
      "cell_type": "code",
      "metadata": {
        "id": "-nPk4kf42IC7"
      },
      "source": [
        "#Fitting function\n",
        "def func(x, a, b):\n",
        "    return a*np.exp(b*x)\n",
        "    #return a*x+b   ## you can specify any function as par your problem"
      ],
      "execution_count": 8,
      "outputs": []
    },
    {
      "cell_type": "code",
      "metadata": {
        "id": "eCMveYla2Rco"
      },
      "source": [
        "#Experimental x and y data points    \n",
        "xData = np.array([1, 2, 3, 4, 5])\n",
        "yData = np.array([1, 9, 50, 300, 1500])"
      ],
      "execution_count": 9,
      "outputs": []
    },
    {
      "cell_type": "code",
      "metadata": {
        "id": "7AQyp_Gi2UVy",
        "outputId": "45be1b72-46ec-41e6-af8b-30c8dcf47874",
        "colab": {
          "base_uri": "https://localhost:8080/",
          "height": 282
        }
      },
      "source": [
        "#Plot experimental data points\n",
        "plt.plot(xData, yData, 'bo', label='experimental-data')"
      ],
      "execution_count": 10,
      "outputs": [
        {
          "output_type": "execute_result",
          "data": {
            "text/plain": [
              "[<matplotlib.lines.Line2D at 0x7f1d317afa90>]"
            ]
          },
          "metadata": {
            "tags": []
          },
          "execution_count": 10
        },
        {
          "output_type": "display_data",
          "data": {
            "image/png": "[encoded data removed]",
            "text/plain": [
              "<Figure size 432x288 with 1 Axes>"
            ]
          },
          "metadata": {
            "tags": [],
            "needs_background": "light"
          }
        }
      ]
    },
    {
      "cell_type": "code",
      "metadata": {
        "id": "4ozVO0BZ2X8w",
        "outputId": "e50358b2-ccf1-411c-ce28-5c56b48b0a48",
        "colab": {
          "base_uri": "https://localhost:8080/"
        }
      },
      "source": [
        "# Initial guess for the parameters\n",
        "initialGuess = [1.0,1.0]    \n",
        " \n",
        "#Perform the curve-fit\n",
        "popt, pcov = curve_fit(func, xData, yData, initialGuess)\n",
        "print(popt)"
      ],
      "execution_count": 11,
      "outputs": [
        {
          "output_type": "stream",
          "text": [
            "[0.45065853 1.62210344]\n"
          ],
          "name": "stdout"
        }
      ]
    },
    {
      "cell_type": "code",
      "metadata": {
        "id": "TUI5HeFB1GbA",
        "outputId": "dacf528f-e321-4a3d-cb7e-8668a96c68e9",
        "colab": {
          "base_uri": "https://localhost:8080/",
          "height": 541
        }
      },
      "source": [
        "#x values for the fitted function\n",
        "xFit = np.arange(0.0, 5.0, 0.01)\n",
        " \n",
        "#Plot the fitted function\n",
        "plt.plot(xData, yData, 'bo', label='experimental-data')\n",
        "plt.plot(xFit, func(xFit, *popt), 'r', label='fit params: a=%5.3f, b=%5.3f' % tuple(popt))\n",
        " \n",
        "plt.xlabel('x')\n",
        "plt.ylabel('y')\n",
        "plt.legend()\n",
        "plt.show()"
      ],
      "execution_count": 14,
      "outputs": [
        {
          "output_type": "display_data",
          "data": {
            "image/png": "[encoded data removed]",
            "text/plain": [
              "<Figure size 432x288 with 1 Axes>"
            ]
          },
          "metadata": {
            "tags": [],
            "needs_background": "light"
          }
        },
        {
          "output_type": "display_data",
          "data": {
            "image/png": "[encoded data removed]",
            "text/plain": [
              "<Figure size 432x288 with 1 Axes>"
            ]
          },
          "metadata": {
            "tags": [],
            "needs_background": "light"
          }
        }
      ]
    },
    {
      "cell_type": "code",
      "metadata": {
        "id": "MAAw-83l5EGO"
      },
      "source": [
        ""
      ],
      "execution_count": null,
      "outputs": []
    }
  ]
}