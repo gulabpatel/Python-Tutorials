{
 "cells": [
  {
   "cell_type": "markdown",
   "metadata": {},
   "source": [
    "### Video help is available here https://www.youtube.com/watch?v=DxZ5WEo4hvU"
   ]
  },
  {
   "cell_type": "markdown",
   "metadata": {},
   "source": [
    "* DEBUG: Detailed information, typically of interest only when diagnosing problems.\n",
    "\n",
    "* INFO: Confirmation that things are working as expected.\n",
    "\n",
    "* WARNING: An indication that something unexpected happened, or indicative of some problem in the near future (e.g. ‘disk space low’). The software is still working as expected.\n",
    "\n",
    "* ERROR: Due to a more serious problem, the software has not been able to perform some function.\n",
    "\n",
    "* CRITICAL: A serious error, indicating that the program itself may be unable to continue running.\n"
   ]
  },
  {
   "cell_type": "code",
   "execution_count": 1,
   "metadata": {},
   "outputs": [],
   "source": [
    "import logging\n",
    "\n",
    "# DEBUG: Detailed information, typically of interest only when diagnosing problems.\n",
    "\n",
    "# INFO: Confirmation that things are working as expected.\n",
    "\n",
    "# WARNING: An indication that something unexpected happened, or indicative of some problem in the near future (e.g. ‘disk space low’). The software is still working as expected.\n",
    "\n",
    "# ERROR: Due to a more serious problem, the software has not been able to perform some function.\n",
    "\n",
    "# CRITICAL: A serious error, indicating that the program itself may be unable to continue running.\n",
    "\n",
    "logging.basicConfig(filename='test.log', level=logging.DEBUG,\n",
    "                    format='%(asctime)s:%(levelname)s:%(message)s')\n",
    "\n",
    "\n",
    "def add(x, y):\n",
    "    \"\"\"Add Function\"\"\"\n",
    "    return x + y\n",
    "\n",
    "\n",
    "def subtract(x, y):\n",
    "    \"\"\"Subtract Function\"\"\"\n",
    "    return x - y\n",
    "\n",
    "\n",
    "def multiply(x, y):\n",
    "    \"\"\"Multiply Function\"\"\"\n",
    "    return x * y\n",
    "\n",
    "\n",
    "def divide(x, y):\n",
    "    \"\"\"Divide Function\"\"\"\n",
    "    return x / y\n",
    "\n",
    "\n",
    "num_1 = 20\n",
    "num_2 = 10\n",
    "\n",
    "add_result = add(num_1, num_2)\n",
    "logging.debug('Add: {} + {} = {}'.format(num_1, num_2, add_result))\n",
    "\n",
    "sub_result = subtract(num_1, num_2)\n",
    "logging.debug('Sub: {} - {} = {}'.format(num_1, num_2, sub_result))\n",
    "\n",
    "mul_result = multiply(num_1, num_2)\n",
    "logging.debug('Mul: {} * {} = {}'.format(num_1, num_2, mul_result))\n",
    "\n",
    "div_result = divide(num_1, num_2)\n",
    "logging.debug('Div: {} / {} = {}'.format(num_1, num_2, div_result))"
   ]
  }
 ],
 "metadata": {
  "kernelspec": {
   "display_name": "Python 3",
   "language": "python",
   "name": "python3"
  },
  "language_info": {
   "codemirror_mode": {
    "name": "ipython",
    "version": 3
   },
   "file_extension": ".py",
   "mimetype": "text/x-python",
   "name": "python",
   "nbconvert_exporter": "python",
   "pygments_lexer": "ipython3",
   "version": "3.8.5"
  }
 },
 "nbformat": 4,
 "nbformat_minor": 4
}
